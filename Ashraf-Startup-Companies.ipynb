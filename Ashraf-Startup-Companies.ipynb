{
 "cells": [
  {
   "cell_type": "code",
   "execution_count": 2,
   "id": "a03a2c46",
   "metadata": {
    "collapsed": true
   },
   "outputs": [],
   "source": [
    "# Setup matplotlib to plot inline (within the notebook)\n",
    "%matplotlib inline\n",
    "# Import the pyplot module of Matplotlib as plt\n",
    "import matplotlib.pyplot as plt\n",
    "# Import pandas under the abbreviation 'pd'\n",
    "import pandas as pd\n",
    "# Import NumPy under the abbreviation 'np'\n",
    "import numpy as np\n",
    "# Libraries to aid in web scraping\n",
    "import requests\n",
    "from bs4 import BeautifulSoup\n",
    "from datetime import datetime\n",
    "import seaborn as sns;\n",
    "#Notes for efficienccy:\n",
    "#shift + tab when cursor is in arguments to bring up its documentation\n",
    "#ex: pd.DataFrame(Shift+tab here)\n",
    "#recall: Json == Dictionary\n",
    "#to know functions of pandas:\n",
    "#dir(pd)"
   ]
  },
  {
   "cell_type": "markdown",
   "id": "697762c8",
   "metadata": {},
   "source": [
    "## Question 1 (Ashraf)"
   ]
  },
  {
   "cell_type": "markdown",
   "id": "bfc6416e",
   "metadata": {},
   "source": [
    "* Do taxes play an important factor in deciding a start-up’s success?\n",
    "    - This can be determined by gathering information about each country’s tax revenues <br> and correlating the results with the status of a start-up."
   ]
  },
  {
   "cell_type": "code",
   "execution_count": 5,
   "metadata": {},
   "outputs": [],
   "source": [
    "# Getting the Cleaned Datasets\n",
    "acquisC = pd.read_csv(\"datasets/startupsCleaned/acquisitionsCleaned.csv\")\n",
    "companiesC = pd.read_csv(\"datasets/startupsCleaned/companiesCleaned.csv\")\n",
    "investsC = pd.read_csv(\"datasets/startupsCleaned/investmentsCleaned.csv\")\n",
    "roundsC = pd.read_csv(\"datasets/startupsCleaned/roundsCleaned.csv\")\n",
    "dfAllC = [acquisC, companiesC, investsC, roundsC]\n",
    "lstCsvNames = [\"acquisitions\", \"companies\", \"investments\", \"rounds\"]"
   ]
  },
  {
   "cell_type": "code",
   "execution_count": 6,
   "metadata": {},
   "outputs": [],
   "source": [
    "# Getting important functions\n",
    "def datasetsCols(dfList, datasetNames, pad=\"\"):\n",
    "    \"\"\"\n",
    "    Takes dataframes and returns a dataframe (df) with each column having a df's\n",
    "    column names. The \"pad\" is to make sure all lists of columns have \n",
    "    the same length padded out with \"pad\"\n",
    "    Example\n",
    "    pad = \"XX\", datasetNames = [\"cars\", \"planes\"]\n",
    "    dfList = [carsDF, planesDF]\n",
    "    returned data frame:\n",
    "            cars            planes\n",
    "    0       numOfWheels     numOfWings\n",
    "    1       manufacturer    manufacturer\n",
    "    2       make            XX\n",
    "    \"\"\"\n",
    "    cols = []\n",
    "    maxArrayLen = 0\n",
    "    for i, df in enumerate(dfList):\n",
    "        cols.append(df.columns.tolist())\n",
    "        maxArrayLen = max(maxArrayLen, len(cols[i]))\n",
    "    \n",
    "    dictCsvs = {}\n",
    "    for i, df in enumerate(dfList):\n",
    "        cols[i] += [pad] * (maxArrayLen - len(cols[i])) #padding the lists to make them have equal lengths \n",
    "        dictCsvs.update({datasetNames[i] : cols[i]})\n",
    "\n",
    "    return pd.DataFrame(dictCsvs)"
   ]
  },
  {
   "cell_type": "code",
   "execution_count": 7,
   "metadata": {},
   "outputs": [],
   "source": [
    "# Getting important functions (cont.)\n",
    "def datasetsNulls(dfList, datasetNames, nullCol=\"nulls_\", pad=\"\"):\n",
    "    \"\"\"\n",
    "    Use this when you want to display a column of column names,\n",
    "    then a column of the null values, and repeat that for each dataset.\n",
    "    Returns a dataframe\n",
    "    \"\"\"\n",
    "    cols = []\n",
    "    nulls = []\n",
    "    maxArrayLen = 0\n",
    "    for i, df in enumerate(dfList):\n",
    "        cols.append(df.columns.tolist())\n",
    "        nulls.append(df.isnull().sum().tolist())\n",
    "        maxArrayLen = max(maxArrayLen, len(cols[i]))\n",
    "    \n",
    "    dictCsvs = {}\n",
    "    for i, df in enumerate(dfList):\n",
    "        cols[i] += [pad] * (maxArrayLen - len(cols[i])) #padding the lists to make them have equal lengths \n",
    "        nulls[i] += [None] *  (maxArrayLen - len(nulls[i]))\n",
    "        dictCsvs[datasetNames[i]] = cols[i]\n",
    "        dictCsvs[nullCol + str(i+1)] = nulls[i]\n",
    "    \n",
    "    return pd.DataFrame(dictCsvs)"
   ]
  },
  {
   "cell_type": "code",
   "execution_count": 19,
   "metadata": {},
   "outputs": [
    {
     "data": {
      "text/plain": [
       "36"
      ]
     },
     "execution_count": 19,
     "metadata": {},
     "output_type": "execute_result"
    }
   ],
   "source": [
    "companiesC.groupby('company_country_code')['company_name'].count().loc['EGY']"
   ]
  },
  {
   "cell_type": "code",
   "execution_count": null,
   "metadata": {},
   "outputs": [],
   "source": []
  }
 ],
 "metadata": {
  "interpreter": {
   "hash": "25c1111f16a5ca6766f1c5cccb819e55c234e2449b101cca4e6a0a62df2327c3"
  },
  "kernelspec": {
   "display_name": "Python 3.8.10 64-bit",
   "language": "python",
   "name": "python3"
  },
  "language_info": {
   "codemirror_mode": {
    "name": "ipython",
    "version": 3
   },
   "file_extension": ".py",
   "mimetype": "text/x-python",
   "name": "python",
   "nbconvert_exporter": "python",
   "pygments_lexer": "ipython3",
   "version": "3.8.10"
  },
  "orig_nbformat": 4
 },
 "nbformat": 4,
 "nbformat_minor": 2
}
