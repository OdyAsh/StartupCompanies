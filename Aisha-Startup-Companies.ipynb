{
 "cells": [
  {
   "cell_type": "code",
   "execution_count": null,
   "id": "a03a2c46",
   "metadata": {
    "collapsed": true
   },
   "outputs": [],
   "source": [
    "# Setup matplotlib to plot inline (within the notebook)\n",
    "%matplotlib inline\n",
    "# Import the pyplot module of Matplotlib as plt\n",
    "import matplotlib.pyplot as plt\n",
    "# Import pandas under the abbreviation 'pd'\n",
    "import pandas as pd\n",
    "# Import NumPy under the abbreviation 'np'\n",
    "import numpy as np\n",
    "# Libraries to aid in web scraping\n",
    "import requests\n",
    "from bs4 import BeautifulSoup\n",
    "from datetime import datetime\n",
    "import seaborn as sns;\n",
    "#Notes for efficienccy:\n",
    "#shift + tab when cursor is in arguments to bring up its documentation\n",
    "#ex: pd.DataFrame(Shift+tab here)\n",
    "#recall: Json == Dictionary\n",
    "#to know functions of pandas:\n",
    "#dir(pd)"
   ]
  },
  {
   "cell_type": "code",
   "execution_count": null,
   "metadata": {},
   "outputs": [],
   "source": [
    "# Getting the Cleaned Datasets\n",
    "acquisC = pd.read_csv(\"datasets/startupsCleaned/acquisitionsCleaned.csv\")\n",
    "companiesC = pd.read_csv(\"datasets/startupsCleaned/companiesCleaned.csv\", parse_dates=['founded_at', 'first_funding_at', 'last_funding_at', 'time_before_first_fund'])\n",
    "investsC = pd.read_csv(\"datasets/startupsCleaned/investmentsCleaned.csv\")\n",
    "roundsC = pd.read_csv(\"datasets/startupsCleaned/roundsCleaned.csv\")\n",
    "dfAllC = [acquisC, companiesC, investsC, roundsC]\n",
    "lstCsvNames = [\"acquisitions\", \"companies\", \"investments\", \"rounds\"]"
   ]
  },
  {
   "cell_type": "markdown",
   "id": "697762c8",
   "metadata": {},
   "source": [
    "## Question 1 (Aisha)"
   ]
  },
  {
   "cell_type": "markdown",
   "metadata": {},
   "source": [
    "STATE THE QUESTION AGAIN"
   ]
  },
  {
   "cell_type": "markdown",
   "metadata": {},
   "source": [
    "### Visualization"
   ]
  },
  {
   "cell_type": "markdown",
   "metadata": {},
   "source": []
  }
 ],
 "metadata": {
  "language_info": {
   "name": "python"
  },
  "orig_nbformat": 4
 },
 "nbformat": 4,
 "nbformat_minor": 2
}
