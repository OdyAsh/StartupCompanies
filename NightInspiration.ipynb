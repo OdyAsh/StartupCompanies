{
 "cells": [
  {
   "cell_type": "code",
   "execution_count": 1,
   "id": "c660db75",
   "metadata": {},
   "outputs": [
    {
     "data": {
      "text/html": [
       "<div>\n",
       "<style scoped>\n",
       "    .dataframe tbody tr th:only-of-type {\n",
       "        vertical-align: middle;\n",
       "    }\n",
       "\n",
       "    .dataframe tbody tr th {\n",
       "        vertical-align: top;\n",
       "    }\n",
       "\n",
       "    .dataframe thead th {\n",
       "        text-align: right;\n",
       "    }\n",
       "</style>\n",
       "<table border=\"1\" class=\"dataframe\">\n",
       "  <thead>\n",
       "    <tr style=\"text-align: right;\">\n",
       "      <th></th>\n",
       "      <th>permalink</th>\n",
       "      <th>name</th>\n",
       "      <th>homepage_url</th>\n",
       "      <th>category_list</th>\n",
       "      <th>funding_total_usd</th>\n",
       "      <th>status</th>\n",
       "      <th>country_code</th>\n",
       "      <th>state_code</th>\n",
       "      <th>region</th>\n",
       "      <th>city</th>\n",
       "      <th>funding_rounds</th>\n",
       "      <th>founded_at</th>\n",
       "      <th>first_funding_at</th>\n",
       "      <th>last_funding_at</th>\n",
       "    </tr>\n",
       "  </thead>\n",
       "  <tbody>\n",
       "    <tr>\n",
       "      <th>0</th>\n",
       "      <td>/organization/-fame</td>\n",
       "      <td>#fame</td>\n",
       "      <td>http://livfame.com</td>\n",
       "      <td>Media</td>\n",
       "      <td>10000000</td>\n",
       "      <td>operating</td>\n",
       "      <td>IND</td>\n",
       "      <td>16</td>\n",
       "      <td>Mumbai</td>\n",
       "      <td>Mumbai</td>\n",
       "      <td>1</td>\n",
       "      <td>NaN</td>\n",
       "      <td>2015-01-05</td>\n",
       "      <td>2015-01-05</td>\n",
       "    </tr>\n",
       "    <tr>\n",
       "      <th>1</th>\n",
       "      <td>/organization/-qounter</td>\n",
       "      <td>:Qounter</td>\n",
       "      <td>http://www.qounter.com</td>\n",
       "      <td>Application Platforms|Real Time|Social Network...</td>\n",
       "      <td>700000</td>\n",
       "      <td>operating</td>\n",
       "      <td>USA</td>\n",
       "      <td>DE</td>\n",
       "      <td>DE - Other</td>\n",
       "      <td>Delaware City</td>\n",
       "      <td>2</td>\n",
       "      <td>2014-09-04</td>\n",
       "      <td>2014-03-01</td>\n",
       "      <td>2014-10-14</td>\n",
       "    </tr>\n",
       "    <tr>\n",
       "      <th>2</th>\n",
       "      <td>/organization/-the-one-of-them-inc-</td>\n",
       "      <td>(THE) ONE of THEM,Inc.</td>\n",
       "      <td>http://oneofthem.jp</td>\n",
       "      <td>Apps|Games|Mobile</td>\n",
       "      <td>3406878</td>\n",
       "      <td>operating</td>\n",
       "      <td>NaN</td>\n",
       "      <td>NaN</td>\n",
       "      <td>NaN</td>\n",
       "      <td>NaN</td>\n",
       "      <td>1</td>\n",
       "      <td>NaN</td>\n",
       "      <td>2014-01-30</td>\n",
       "      <td>2014-01-30</td>\n",
       "    </tr>\n",
       "    <tr>\n",
       "      <th>3</th>\n",
       "      <td>/organization/0-6-com</td>\n",
       "      <td>0-6.com</td>\n",
       "      <td>http://www.0-6.com</td>\n",
       "      <td>Curated Web</td>\n",
       "      <td>2000000</td>\n",
       "      <td>operating</td>\n",
       "      <td>CHN</td>\n",
       "      <td>22</td>\n",
       "      <td>Beijing</td>\n",
       "      <td>Beijing</td>\n",
       "      <td>1</td>\n",
       "      <td>2007-01-01</td>\n",
       "      <td>2008-03-19</td>\n",
       "      <td>2008-03-19</td>\n",
       "    </tr>\n",
       "    <tr>\n",
       "      <th>4</th>\n",
       "      <td>/organization/004-technologies</td>\n",
       "      <td>004 Technologies</td>\n",
       "      <td>http://004gmbh.de/en/004-interact</td>\n",
       "      <td>Software</td>\n",
       "      <td>-</td>\n",
       "      <td>operating</td>\n",
       "      <td>USA</td>\n",
       "      <td>IL</td>\n",
       "      <td>Springfield, Illinois</td>\n",
       "      <td>Champaign</td>\n",
       "      <td>1</td>\n",
       "      <td>2010-01-01</td>\n",
       "      <td>2014-07-24</td>\n",
       "      <td>2014-07-24</td>\n",
       "    </tr>\n",
       "  </tbody>\n",
       "</table>\n",
       "</div>"
      ],
      "text/plain": [
       "                             permalink                    name  \\\n",
       "0                  /organization/-fame                   #fame   \n",
       "1               /organization/-qounter                :Qounter   \n",
       "2  /organization/-the-one-of-them-inc-  (THE) ONE of THEM,Inc.   \n",
       "3                /organization/0-6-com                 0-6.com   \n",
       "4       /organization/004-technologies        004 Technologies   \n",
       "\n",
       "                        homepage_url  \\\n",
       "0                 http://livfame.com   \n",
       "1             http://www.qounter.com   \n",
       "2                http://oneofthem.jp   \n",
       "3                 http://www.0-6.com   \n",
       "4  http://004gmbh.de/en/004-interact   \n",
       "\n",
       "                                       category_list funding_total_usd  \\\n",
       "0                                              Media          10000000   \n",
       "1  Application Platforms|Real Time|Social Network...            700000   \n",
       "2                                  Apps|Games|Mobile           3406878   \n",
       "3                                        Curated Web           2000000   \n",
       "4                                           Software                 -   \n",
       "\n",
       "      status country_code state_code                 region           city  \\\n",
       "0  operating          IND         16                 Mumbai         Mumbai   \n",
       "1  operating          USA         DE             DE - Other  Delaware City   \n",
       "2  operating          NaN        NaN                    NaN            NaN   \n",
       "3  operating          CHN         22                Beijing        Beijing   \n",
       "4  operating          USA         IL  Springfield, Illinois      Champaign   \n",
       "\n",
       "   funding_rounds  founded_at first_funding_at last_funding_at  \n",
       "0               1         NaN       2015-01-05      2015-01-05  \n",
       "1               2  2014-09-04       2014-03-01      2014-10-14  \n",
       "2               1         NaN       2014-01-30      2014-01-30  \n",
       "3               1  2007-01-01       2008-03-19      2008-03-19  \n",
       "4               1  2010-01-01       2014-07-24      2014-07-24  "
      ]
     },
     "execution_count": 1,
     "metadata": {},
     "output_type": "execute_result"
    }
   ],
   "source": [
    "import pandas as pd\n",
    "df=pd.read_csv('companies.csv')\n",
    "df.head()\n"
   ]
  },
  {
   "cell_type": "code",
   "execution_count": 12,
   "id": "d6c201d4",
   "metadata": {},
   "outputs": [
    {
     "data": {
      "text/plain": [
       "Text(0.5, 1.0, 'status difference')"
      ]
     },
     "execution_count": 12,
     "metadata": {},
     "output_type": "execute_result"
    },
    {
     "data": {
      "image/png": "[encoded data removed]",
      "text/plain": [
       "<Figure size 432x288 with 1 Axes>"
      ]
     },
     "metadata": {
      "needs_background": "light"
     },
     "output_type": "display_data"
    }
   ],
   "source": [
    "import matplotlib.pyplot as plt\n",
    "df.status.hist()\n",
    "plt.title('status difference')"
   ]
  },
  {
   "cell_type": "markdown",
   "id": "77ee9013",
   "metadata": {},
   "source": [
    "As the histogram above shows, we have more companies operating as compared to acquired ones which would imply that they received far more funding and produced more than those which were acquired."
   ]
  },
  {
   "cell_type": "code",
   "execution_count": 3,
   "id": "e19f5a68",
   "metadata": {},
   "outputs": [
    {
     "data": {
      "text/html": [
       "<div>\n",
       "<style scoped>\n",
       "    .dataframe tbody tr th:only-of-type {\n",
       "        vertical-align: middle;\n",
       "    }\n",
       "\n",
       "    .dataframe tbody tr th {\n",
       "        vertical-align: top;\n",
       "    }\n",
       "\n",
       "    .dataframe thead th {\n",
       "        text-align: right;\n",
       "    }\n",
       "</style>\n",
       "<table border=\"1\" class=\"dataframe\">\n",
       "  <thead>\n",
       "    <tr style=\"text-align: right;\">\n",
       "      <th></th>\n",
       "      <th>permalink</th>\n",
       "      <th>name</th>\n",
       "      <th>homepage_url</th>\n",
       "      <th>category_list</th>\n",
       "      <th>funding_total_usd</th>\n",
       "      <th>status</th>\n",
       "      <th>country_code</th>\n",
       "      <th>state_code</th>\n",
       "      <th>region</th>\n",
       "      <th>city</th>\n",
       "      <th>funding_rounds</th>\n",
       "      <th>founded_at</th>\n",
       "      <th>first_funding_at</th>\n",
       "      <th>last_funding_at</th>\n",
       "    </tr>\n",
       "  </thead>\n",
       "  <tbody>\n",
       "    <tr>\n",
       "      <th>0</th>\n",
       "      <td>/organization/-fame</td>\n",
       "      <td>#fame</td>\n",
       "      <td>http://livfame.com</td>\n",
       "      <td>Media</td>\n",
       "      <td>10000000</td>\n",
       "      <td>operating</td>\n",
       "      <td>IND</td>\n",
       "      <td>16</td>\n",
       "      <td>Mumbai</td>\n",
       "      <td>Mumbai</td>\n",
       "      <td>1</td>\n",
       "      <td>NaN</td>\n",
       "      <td>2015-01-05</td>\n",
       "      <td>2015-01-05</td>\n",
       "    </tr>\n",
       "    <tr>\n",
       "      <th>1</th>\n",
       "      <td>/organization/-qounter</td>\n",
       "      <td>:Qounter</td>\n",
       "      <td>http://www.qounter.com</td>\n",
       "      <td>Application Platforms|Real Time|Social Network...</td>\n",
       "      <td>700000</td>\n",
       "      <td>operating</td>\n",
       "      <td>USA</td>\n",
       "      <td>DE</td>\n",
       "      <td>DE - Other</td>\n",
       "      <td>Delaware City</td>\n",
       "      <td>2</td>\n",
       "      <td>2014-09-04</td>\n",
       "      <td>2014-03-01</td>\n",
       "      <td>2014-10-14</td>\n",
       "    </tr>\n",
       "    <tr>\n",
       "      <th>2</th>\n",
       "      <td>/organization/-the-one-of-them-inc-</td>\n",
       "      <td>(THE) ONE of THEM,Inc.</td>\n",
       "      <td>http://oneofthem.jp</td>\n",
       "      <td>Apps|Games|Mobile</td>\n",
       "      <td>3406878</td>\n",
       "      <td>operating</td>\n",
       "      <td>NaN</td>\n",
       "      <td>NaN</td>\n",
       "      <td>NaN</td>\n",
       "      <td>NaN</td>\n",
       "      <td>1</td>\n",
       "      <td>NaN</td>\n",
       "      <td>2014-01-30</td>\n",
       "      <td>2014-01-30</td>\n",
       "    </tr>\n",
       "    <tr>\n",
       "      <th>3</th>\n",
       "      <td>/organization/0-6-com</td>\n",
       "      <td>0-6.com</td>\n",
       "      <td>http://www.0-6.com</td>\n",
       "      <td>Curated Web</td>\n",
       "      <td>2000000</td>\n",
       "      <td>operating</td>\n",
       "      <td>CHN</td>\n",
       "      <td>22</td>\n",
       "      <td>Beijing</td>\n",
       "      <td>Beijing</td>\n",
       "      <td>1</td>\n",
       "      <td>2007-01-01</td>\n",
       "      <td>2008-03-19</td>\n",
       "      <td>2008-03-19</td>\n",
       "    </tr>\n",
       "    <tr>\n",
       "      <th>4</th>\n",
       "      <td>/organization/004-technologies</td>\n",
       "      <td>004 Technologies</td>\n",
       "      <td>http://004gmbh.de/en/004-interact</td>\n",
       "      <td>Software</td>\n",
       "      <td>-</td>\n",
       "      <td>operating</td>\n",
       "      <td>USA</td>\n",
       "      <td>IL</td>\n",
       "      <td>Springfield, Illinois</td>\n",
       "      <td>Champaign</td>\n",
       "      <td>1</td>\n",
       "      <td>2010-01-01</td>\n",
       "      <td>2014-07-24</td>\n",
       "      <td>2014-07-24</td>\n",
       "    </tr>\n",
       "  </tbody>\n",
       "</table>\n",
       "</div>"
      ],
      "text/plain": [
       "                             permalink                    name  \\\n",
       "0                  /organization/-fame                   #fame   \n",
       "1               /organization/-qounter                :Qounter   \n",
       "2  /organization/-the-one-of-them-inc-  (THE) ONE of THEM,Inc.   \n",
       "3                /organization/0-6-com                 0-6.com   \n",
       "4       /organization/004-technologies        004 Technologies   \n",
       "\n",
       "                        homepage_url  \\\n",
       "0                 http://livfame.com   \n",
       "1             http://www.qounter.com   \n",
       "2                http://oneofthem.jp   \n",
       "3                 http://www.0-6.com   \n",
       "4  http://004gmbh.de/en/004-interact   \n",
       "\n",
       "                                       category_list funding_total_usd  \\\n",
       "0                                              Media          10000000   \n",
       "1  Application Platforms|Real Time|Social Network...            700000   \n",
       "2                                  Apps|Games|Mobile           3406878   \n",
       "3                                        Curated Web           2000000   \n",
       "4                                           Software                 -   \n",
       "\n",
       "      status country_code state_code                 region           city  \\\n",
       "0  operating          IND         16                 Mumbai         Mumbai   \n",
       "1  operating          USA         DE             DE - Other  Delaware City   \n",
       "2  operating          NaN        NaN                    NaN            NaN   \n",
       "3  operating          CHN         22                Beijing        Beijing   \n",
       "4  operating          USA         IL  Springfield, Illinois      Champaign   \n",
       "\n",
       "   funding_rounds  founded_at first_funding_at last_funding_at  \n",
       "0               1         NaN       2015-01-05      2015-01-05  \n",
       "1               2  2014-09-04       2014-03-01      2014-10-14  \n",
       "2               1         NaN       2014-01-30      2014-01-30  \n",
       "3               1  2007-01-01       2008-03-19      2008-03-19  \n",
       "4               1  2010-01-01       2014-07-24      2014-07-24  "
      ]
     },
     "execution_count": 3,
     "metadata": {},
     "output_type": "execute_result"
    }
   ],
   "source": [
    "operating=df.loc[df['status']=='operating']\n",
    "operating.head()\n"
   ]
  },
  {
   "cell_type": "code",
   "execution_count": 9,
   "id": "e1a9a4d3",
   "metadata": {},
   "outputs": [
    {
     "data": {
      "text/plain": [
       "Text(0.5, 1.0, 'funding rounds for operating companies')"
      ]
     },
     "execution_count": 9,
     "metadata": {},
     "output_type": "execute_result"
    },
    {
     "data": {
      "image/png": "[encoded data removed]",
      "text/plain": [
       "<Figure size 432x288 with 1 Axes>"
      ]
     },
     "metadata": {
      "needs_background": "light"
     },
     "output_type": "display_data"
    }
   ],
   "source": [
    "operating.funding_rounds.plot(kind=\"kde\")\n",
    "plt.title('funding rounds for operating companies')"
   ]
  },
  {
   "cell_type": "markdown",
   "id": "c424b1c2",
   "metadata": {},
   "source": [
    "As the graph above shows, we can deduce that operating companies received more funding rounds ranging between 0 and 10 with high density as compared to acquired companies as shown below"
   ]
  },
  {
   "cell_type": "code",
   "execution_count": 10,
   "id": "c3d086c1",
   "metadata": {
    "scrolled": true
   },
   "outputs": [
    {
     "data": {
      "text/plain": [
       "Text(0.5, 1.0, 'funding rounds for aqcuired companies')"
      ]
     },
     "execution_count": 10,
     "metadata": {},
     "output_type": "execute_result"
    },
    {
     "data": {
      "image/png": "[encoded data removed]",
      "text/plain": [
       "<Figure size 432x288 with 1 Axes>"
      ]
     },
     "metadata": {
      "needs_background": "light"
     },
     "output_type": "display_data"
    }
   ],
   "source": [
    "acquired=df.loc[df['status']=='acquired']\n",
    "acquired.funding_rounds.plot(kind=\"kde\")\n",
    "plt.title('funding rounds for aqcuired companies')"
   ]
  },
  {
   "cell_type": "code",
   "execution_count": 6,
   "id": "361da12f",
   "metadata": {},
   "outputs": [
    {
     "data": {
      "text/html": [
       "<div>\n",
       "<style scoped>\n",
       "    .dataframe tbody tr th:only-of-type {\n",
       "        vertical-align: middle;\n",
       "    }\n",
       "\n",
       "    .dataframe tbody tr th {\n",
       "        vertical-align: top;\n",
       "    }\n",
       "\n",
       "    .dataframe thead th {\n",
       "        text-align: right;\n",
       "    }\n",
       "</style>\n",
       "<table border=\"1\" class=\"dataframe\">\n",
       "  <thead>\n",
       "    <tr style=\"text-align: right;\">\n",
       "      <th></th>\n",
       "      <th>company_permalink</th>\n",
       "      <th>company_name</th>\n",
       "      <th>company_category_list</th>\n",
       "      <th>company_country_code</th>\n",
       "      <th>company_state_code</th>\n",
       "      <th>company_region</th>\n",
       "      <th>company_city</th>\n",
       "      <th>investor_permalink</th>\n",
       "      <th>investor_name</th>\n",
       "      <th>investor_country_code</th>\n",
       "      <th>investor_state_code</th>\n",
       "      <th>investor_region</th>\n",
       "      <th>investor_city</th>\n",
       "      <th>funding_round_permalink</th>\n",
       "      <th>funding_round_type</th>\n",
       "      <th>funding_round_code</th>\n",
       "      <th>funded_at</th>\n",
       "      <th>raised_amount_usd</th>\n",
       "    </tr>\n",
       "  </thead>\n",
       "  <tbody>\n",
       "    <tr>\n",
       "      <th>0</th>\n",
       "      <td>/organization/0-6-com</td>\n",
       "      <td>0-6.com</td>\n",
       "      <td>Curated Web</td>\n",
       "      <td>CHN</td>\n",
       "      <td>22</td>\n",
       "      <td>Beijing</td>\n",
       "      <td>Beijing</td>\n",
       "      <td>/organization/dt-capital-partners</td>\n",
       "      <td>DT Capital Partners</td>\n",
       "      <td>CHN</td>\n",
       "      <td>23</td>\n",
       "      <td>Shanghai</td>\n",
       "      <td>Shanghai</td>\n",
       "      <td>/funding-round/5727accaeaa57461bd22a9bdd945382d</td>\n",
       "      <td>venture</td>\n",
       "      <td>A</td>\n",
       "      <td>2008-03-19</td>\n",
       "      <td>2000000.0</td>\n",
       "    </tr>\n",
       "    <tr>\n",
       "      <th>1</th>\n",
       "      <td>/organization/004-technologies</td>\n",
       "      <td>004 Technologies</td>\n",
       "      <td>Software</td>\n",
       "      <td>USA</td>\n",
       "      <td>IL</td>\n",
       "      <td>Springfield, Illinois</td>\n",
       "      <td>Champaign</td>\n",
       "      <td>/organization/venturecapital-de</td>\n",
       "      <td>VCDE Venture Partners</td>\n",
       "      <td>DEU</td>\n",
       "      <td>5</td>\n",
       "      <td>Frankfurt</td>\n",
       "      <td>Frankfurt</td>\n",
       "      <td>/funding-round/1278dd4e6a37fa4b7d7e06c21b3c1830</td>\n",
       "      <td>venture</td>\n",
       "      <td>NaN</td>\n",
       "      <td>2014-07-24</td>\n",
       "      <td>NaN</td>\n",
       "    </tr>\n",
       "    <tr>\n",
       "      <th>2</th>\n",
       "      <td>/organization/01games-technology</td>\n",
       "      <td>01Games Technology</td>\n",
       "      <td>Games</td>\n",
       "      <td>HKG</td>\n",
       "      <td>NaN</td>\n",
       "      <td>Hong Kong</td>\n",
       "      <td>Hong Kong</td>\n",
       "      <td>/organization/cyberport-hong-kong</td>\n",
       "      <td>Cyberport Hong Kong</td>\n",
       "      <td>HKG</td>\n",
       "      <td>NaN</td>\n",
       "      <td>Hong Kong</td>\n",
       "      <td>Hong Kong</td>\n",
       "      <td>/funding-round/7d53696f2b4f607a2f2a8cbb83d01839</td>\n",
       "      <td>undisclosed</td>\n",
       "      <td>NaN</td>\n",
       "      <td>2014-07-01</td>\n",
       "      <td>41250.0</td>\n",
       "    </tr>\n",
       "    <tr>\n",
       "      <th>3</th>\n",
       "      <td>/organization/0xdata</td>\n",
       "      <td>H2O.ai</td>\n",
       "      <td>Analytics</td>\n",
       "      <td>USA</td>\n",
       "      <td>CA</td>\n",
       "      <td>SF Bay Area</td>\n",
       "      <td>Mountain View</td>\n",
       "      <td>/organization/capital-one</td>\n",
       "      <td>Capital One</td>\n",
       "      <td>USA</td>\n",
       "      <td>VA</td>\n",
       "      <td>Washington, D.C.</td>\n",
       "      <td>Mclean</td>\n",
       "      <td>/funding-round/3bb2ee4a2d89251a10aaa735b1180e44</td>\n",
       "      <td>venture</td>\n",
       "      <td>B</td>\n",
       "      <td>2015-11-09</td>\n",
       "      <td>20000000.0</td>\n",
       "    </tr>\n",
       "    <tr>\n",
       "      <th>4</th>\n",
       "      <td>/organization/0xdata</td>\n",
       "      <td>H2O.ai</td>\n",
       "      <td>Analytics</td>\n",
       "      <td>USA</td>\n",
       "      <td>CA</td>\n",
       "      <td>SF Bay Area</td>\n",
       "      <td>Mountain View</td>\n",
       "      <td>/organization/nexus-venture-partners</td>\n",
       "      <td>Nexus Venture Partners</td>\n",
       "      <td>USA</td>\n",
       "      <td>CA</td>\n",
       "      <td>SF Bay Area</td>\n",
       "      <td>Menlo Park</td>\n",
       "      <td>/funding-round/383a9bd2c04f7038bb543ccef5ba3eae</td>\n",
       "      <td>seed</td>\n",
       "      <td>NaN</td>\n",
       "      <td>2013-05-22</td>\n",
       "      <td>3000000.0</td>\n",
       "    </tr>\n",
       "  </tbody>\n",
       "</table>\n",
       "</div>"
      ],
      "text/plain": [
       "                  company_permalink        company_name company_category_list  \\\n",
       "0             /organization/0-6-com             0-6.com           Curated Web   \n",
       "1    /organization/004-technologies    004 Technologies              Software   \n",
       "2  /organization/01games-technology  01Games Technology                 Games   \n",
       "3              /organization/0xdata              H2O.ai             Analytics   \n",
       "4              /organization/0xdata              H2O.ai             Analytics   \n",
       "\n",
       "  company_country_code company_state_code         company_region  \\\n",
       "0                  CHN                 22                Beijing   \n",
       "1                  USA                 IL  Springfield, Illinois   \n",
       "2                  HKG                NaN              Hong Kong   \n",
       "3                  USA                 CA            SF Bay Area   \n",
       "4                  USA                 CA            SF Bay Area   \n",
       "\n",
       "    company_city                    investor_permalink  \\\n",
       "0        Beijing     /organization/dt-capital-partners   \n",
       "1      Champaign       /organization/venturecapital-de   \n",
       "2      Hong Kong     /organization/cyberport-hong-kong   \n",
       "3  Mountain View             /organization/capital-one   \n",
       "4  Mountain View  /organization/nexus-venture-partners   \n",
       "\n",
       "            investor_name investor_country_code investor_state_code  \\\n",
       "0     DT Capital Partners                   CHN                  23   \n",
       "1   VCDE Venture Partners                   DEU                   5   \n",
       "2     Cyberport Hong Kong                   HKG                 NaN   \n",
       "3             Capital One                   USA                  VA   \n",
       "4  Nexus Venture Partners                   USA                  CA   \n",
       "\n",
       "    investor_region investor_city  \\\n",
       "0          Shanghai      Shanghai   \n",
       "1         Frankfurt     Frankfurt   \n",
       "2         Hong Kong     Hong Kong   \n",
       "3  Washington, D.C.        Mclean   \n",
       "4       SF Bay Area    Menlo Park   \n",
       "\n",
       "                           funding_round_permalink funding_round_type  \\\n",
       "0  /funding-round/5727accaeaa57461bd22a9bdd945382d            venture   \n",
       "1  /funding-round/1278dd4e6a37fa4b7d7e06c21b3c1830            venture   \n",
       "2  /funding-round/7d53696f2b4f607a2f2a8cbb83d01839        undisclosed   \n",
       "3  /funding-round/3bb2ee4a2d89251a10aaa735b1180e44            venture   \n",
       "4  /funding-round/383a9bd2c04f7038bb543ccef5ba3eae               seed   \n",
       "\n",
       "  funding_round_code   funded_at  raised_amount_usd  \n",
       "0                  A  2008-03-19          2000000.0  \n",
       "1                NaN  2014-07-24                NaN  \n",
       "2                NaN  2014-07-01            41250.0  \n",
       "3                  B  2015-11-09         20000000.0  \n",
       "4                NaN  2013-05-22          3000000.0  "
      ]
     },
     "execution_count": 6,
     "metadata": {},
     "output_type": "execute_result"
    }
   ],
   "source": [
    "d=pd.read_csv('investments.csv')\n",
    "d.head()\n"
   ]
  },
  {
   "cell_type": "code",
   "execution_count": 11,
   "id": "e4524409",
   "metadata": {},
   "outputs": [
    {
     "data": {
      "text/plain": [
       "Text(0.5, 1.0, 'countries investment variation')"
      ]
     },
     "execution_count": 11,
     "metadata": {},
     "output_type": "execute_result"
    },
    {
     "data": {
      "image/png": "[encoded data removed]",
      "text/plain": [
       "<Figure size 432x288 with 1 Axes>"
      ]
     },
     "metadata": {
      "needs_background": "light"
     },
     "output_type": "display_data"
    }
   ],
   "source": [
    "\n",
    "d.plot(kind='line', x='investor_country_code', y='raised_amount_usd')\n",
    "plt.title('countries investment variation')"
   ]
  },
  {
   "cell_type": "markdown",
   "id": "f6fac182",
   "metadata": {},
   "source": [
    "The above figure shows us that the country which invests the most is USA followed by ISR. "
   ]
  },
  {
   "cell_type": "markdown",
   "id": "1988790e",
   "metadata": {},
   "source": [
    "Which category (field) attracts more funding?\n",
    "Every start-up is built upon an idea or a category, and each category can attract interested investors. The data will be analysed to determine which companies under which category attract the most funding, and then it would show which category has the potential and is an interest to investors.\n"
   ]
  },
  {
   "cell_type": "code",
   "execution_count": 18,
   "id": "50750634",
   "metadata": {},
   "outputs": [
    {
     "data": {
      "text/plain": [
       "Biotechnology                                               10041\n",
       "Software                                                     8931\n",
       "Mobile                                                       3178\n",
       "Enterprise Software                                          3002\n",
       "E-Commerce                                                   2980\n",
       "                                                            ...  \n",
       "Curated Web|E-Commerce|Online Reservations|Online Travel        1\n",
       "Hedge Funds|Market Research|Trading                             1\n",
       "Curated Web|Home & Garden                                       1\n",
       "E-Commerce|Furniture|Home & Garden|Lighting                     1\n",
       "Consumer Goods|E-Commerce|Internet                              1\n",
       "Name: company_category_list, Length: 19453, dtype: int64"
      ]
     },
     "execution_count": 18,
     "metadata": {},
     "output_type": "execute_result"
    }
   ],
   "source": [
    "d['company_category_list'].value_counts()"
   ]
  },
  {
   "cell_type": "markdown",
   "id": "9cb31be6",
   "metadata": {},
   "source": [
    "As seen above, companies specializing in biotechnology receive more investment funds. We can compare this by checking the category list from companies dataframe."
   ]
  },
  {
   "cell_type": "code",
   "execution_count": 19,
   "id": "e8620111",
   "metadata": {},
   "outputs": [
    {
     "data": {
      "text/plain": [
       "Software                                                                       3995\n",
       "Biotechnology                                                                  3615\n",
       "E-Commerce                                                                     1332\n",
       "Mobile                                                                         1177\n",
       "Clean Technology                                                               1133\n",
       "                                                                               ... \n",
       "Consumer Internet|Marketplaces|Mobile|Mobile Payments|Transportation|Travel       1\n",
       "Apps|Mobile|Private Social Networking                                             1\n",
       "Cloud Computing|Enterprise Software|Infrastructure|PaaS|Social Media              1\n",
       "Content|SaaS|Social Media Marketing|Software                                      1\n",
       "Consumer Goods|E-Commerce|Internet                                                1\n",
       "Name: category_list, Length: 27296, dtype: int64"
      ]
     },
     "execution_count": 19,
     "metadata": {},
     "output_type": "execute_result"
    }
   ],
   "source": [
    "df['category_list'].value_counts()"
   ]
  },
  {
   "cell_type": "markdown",
   "id": "3a17698c",
   "metadata": {},
   "source": [
    "The above result shows that majority of the companies specialize in software. This implies that although we have more investments done in the biotechnological domain, majority of the companies still specialize in software with biotechnology being the second."
   ]
  }
 ],
 "metadata": {
  "kernelspec": {
   "display_name": "Python 3 (ipykernel)",
   "language": "python",
   "name": "python3"
  },
  "language_info": {
   "codemirror_mode": {
    "name": "ipython",
    "version": 3
   },
   "file_extension": ".py",
   "mimetype": "text/x-python",
   "name": "python",
   "nbconvert_exporter": "python",
   "pygments_lexer": "ipython3",
   "version": "3.9.7"
  }
 },
 "nbformat": 4,
 "nbformat_minor": 5
}
