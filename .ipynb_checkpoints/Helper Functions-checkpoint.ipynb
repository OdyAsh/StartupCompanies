{
 "cells": [
  {
   "cell_type": "markdown",
   "id": "9543bf08",
   "metadata": {},
   "source": [
    "# Dropping Columns in a Dataframe"
   ]
  },
  {
   "cell_type": "code",
   "execution_count": null,
   "id": "c659a2e8",
   "metadata": {},
   "outputs": [],
   "source": [
    "def dropNanValues(df, threshold, inplace=False):\n",
    "    \"\"\"\n",
    "    takes dataframe \"df\", and returns another df with removed columns \n",
    "    that have null values more than (or equal) \"threshold\" number of nulls.\n",
    "    \"\"\"\n",
    "    nullsSeries = df.isnull().sum()\n",
    "    thresholdColsList = nullsSeries[nullsSeries >= threshold].index.tolist()\n",
    "    return df.drop(columns=thresholdColsList, inplace=inplace)"
   ]
  },
  {
   "cell_type": "code",
   "execution_count": null,
   "id": "867d69f8",
   "metadata": {},
   "outputs": [],
   "source": [
    "def dropNanPercentages(df, threshold, inplace=False):\n",
    "    \"\"\"\n",
    "    takes dataframe \"df\", and returns another df with removed columns \n",
    "    that have null values more than (or equal) \"threshold\" percentage of \n",
    "    the df's total rows.\n",
    "    \"\"\"\n",
    "    df2 = df.loc[:, df.isnull().sum() < threshold*df.shape[0]]\n",
    "    if (inplace):\n",
    "        df = df2\n",
    "    else:\n",
    "        return df2"
   ]
  },
  {
   "cell_type": "code",
   "execution_count": null,
   "id": "cdbe3746",
   "metadata": {},
   "outputs": [],
   "source": []
  }
 ],
 "metadata": {
  "kernelspec": {
   "display_name": "Python 3 (ipykernel)",
   "language": "python",
   "name": "python3"
  },
  "language_info": {
   "codemirror_mode": {
    "name": "ipython",
    "version": 3
   },
   "file_extension": ".py",
   "mimetype": "text/x-python",
   "name": "python",
   "nbconvert_exporter": "python",
   "pygments_lexer": "ipython3",
   "version": "3.9.7"
  }
 },
 "nbformat": 4,
 "nbformat_minor": 5
}
